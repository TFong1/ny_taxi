{
 "cells": [
  {
   "cell_type": "code",
   "execution_count": 1,
   "id": "b52fb57b",
   "metadata": {},
   "outputs": [
    {
     "name": "stderr",
     "output_type": "stream",
     "text": [
      "22/03/10 13:38:23 WARN Utils: Your hostname, FONG-DEV-NUC resolves to a loopback address: 127.0.1.1; using 192.168.131.139 instead (on interface eth0)\n",
      "22/03/10 13:38:23 WARN Utils: Set SPARK_LOCAL_IP if you need to bind to another address\n",
      "WARNING: An illegal reflective access operation has occurred\n",
      "WARNING: Illegal reflective access by org.apache.spark.unsafe.Platform (file:/home/fongt/spark/spark-3.0.3-bin-hadoop3.2/jars/spark-unsafe_2.12-3.0.3.jar) to constructor java.nio.DirectByteBuffer(long,int)\n",
      "WARNING: Please consider reporting this to the maintainers of org.apache.spark.unsafe.Platform\n",
      "WARNING: Use --illegal-access=warn to enable warnings of further illegal reflective access operations\n",
      "WARNING: All illegal access operations will be denied in a future release\n",
      "22/03/10 13:38:33 WARN NativeCodeLoader: Unable to load native-hadoop library for your platform... using builtin-java classes where applicable\n",
      "Using Spark's default log4j profile: org/apache/spark/log4j-defaults.properties\n",
      "Setting default log level to \"WARN\".\n",
      "To adjust logging level use sc.setLogLevel(newLevel). For SparkR, use setLogLevel(newLevel).\n"
     ]
    }
   ],
   "source": [
    "import pyspark\n",
    "from pyspark.sql import SparkSession\n",
    "\n",
    "spark = SparkSession.builder \\\n",
    "            .master(\"local[*]\") \\\n",
    "            .appName(\"test\") \\\n",
    "            .getOrCreate()"
   ]
  },
  {
   "cell_type": "code",
   "execution_count": 2,
   "id": "8095f5a2",
   "metadata": {},
   "outputs": [],
   "source": [
    "df_green = spark.read.parquet(\"data/pq/green/*/*/\")"
   ]
  },
  {
   "cell_type": "code",
   "execution_count": 3,
   "id": "c09fa4e1",
   "metadata": {},
   "outputs": [],
   "source": [
    "df_green.registerTempTable(\"green\")"
   ]
  },
  {
   "cell_type": "code",
   "execution_count": 13,
   "id": "2a552f50",
   "metadata": {},
   "outputs": [],
   "source": [
    "df_green_revenue = spark.sql(\"\"\"\n",
    "    SELECT\n",
    "        -- Revenue grouping\n",
    "        DATE_TRUNC('HOUR', lpep_pickup_datetime) AS hour,\n",
    "        PULocationID AS zone,\n",
    "        \n",
    "        -- Revenue calculation\n",
    "        SUM(total_amount) AS amount,\n",
    "        COUNT(1) as number_records\n",
    "        \n",
    "    FROM\n",
    "        green\n",
    "    WHERE\n",
    "        lpep_pickup_datetime >= '2020-01-01 00:00:00'\n",
    "    GROUP BY\n",
    "        1, 2\n",
    "\"\"\")"
   ]
  },
  {
   "cell_type": "code",
   "execution_count": 11,
   "id": "a6189e2e",
   "metadata": {},
   "outputs": [
    {
     "name": "stderr",
     "output_type": "stream",
     "text": [
      "[Stage 5:===================>                                      (4 + 8) / 12]\r"
     ]
    },
    {
     "name": "stdout",
     "output_type": "stream",
     "text": [
      "+-------------------+----+------------------+--------------+\n",
      "|               hour|zone|            amount|number_records|\n",
      "+-------------------+----+------------------+--------------+\n",
      "|2020-01-01 00:00:00|   7| 769.7299999999997|            45|\n",
      "|2020-01-01 00:00:00|  17|195.03000000000003|             9|\n",
      "|2020-01-01 00:00:00|  18|               7.8|             1|\n",
      "|2020-01-01 00:00:00|  22|              15.8|             1|\n",
      "|2020-01-01 00:00:00|  24|              87.6|             3|\n",
      "|2020-01-01 00:00:00|  25|             531.0|            26|\n",
      "|2020-01-01 00:00:00|  29|              61.3|             1|\n",
      "|2020-01-01 00:00:00|  32| 68.94999999999999|             2|\n",
      "|2020-01-01 00:00:00|  33|317.27000000000004|            11|\n",
      "|2020-01-01 00:00:00|  35|            129.96|             5|\n",
      "|2020-01-01 00:00:00|  36|            295.34|            11|\n",
      "|2020-01-01 00:00:00|  37|            175.67|             6|\n",
      "|2020-01-01 00:00:00|  38| 98.78999999999999|             2|\n",
      "|2020-01-01 00:00:00|  40|168.98000000000002|             8|\n",
      "|2020-01-01 00:00:00|  41|1363.9599999999984|            84|\n",
      "|2020-01-01 00:00:00|  42| 799.7599999999998|            52|\n",
      "|2020-01-01 00:00:00|  43|            107.52|             6|\n",
      "|2020-01-01 00:00:00|  47|              13.3|             1|\n",
      "|2020-01-01 00:00:00|  49|            266.76|            14|\n",
      "|2020-01-01 00:00:00|  51|              17.8|             2|\n",
      "+-------------------+----+------------------+--------------+\n",
      "only showing top 20 rows\n",
      "\n"
     ]
    },
    {
     "name": "stderr",
     "output_type": "stream",
     "text": [
      "\r",
      "                                                                                \r"
     ]
    }
   ],
   "source": [
    "df_green_revenue.show()"
   ]
  },
  {
   "cell_type": "code",
   "execution_count": 14,
   "id": "b885b706",
   "metadata": {},
   "outputs": [
    {
     "name": "stderr",
     "output_type": "stream",
     "text": [
      "22/03/10 14:00:48 WARN MemoryManager: Total allocation exceeds 95.00% (1,020,054,720 bytes) of heap memory\n",
      "Scaling row group sizes to 95.00% for 8 writers\n",
      "22/03/10 14:00:48 WARN MemoryManager: Total allocation exceeds 95.00% (1,020,054,720 bytes) of heap memory\n",
      "Scaling row group sizes to 84.44% for 9 writers\n",
      "22/03/10 14:00:48 WARN MemoryManager: Total allocation exceeds 95.00% (1,020,054,720 bytes) of heap memory\n",
      "Scaling row group sizes to 95.00% for 8 writers\n",
      "                                                                                \r"
     ]
    }
   ],
   "source": [
    "df_green_revenue.write.parquet(\"data/report/revenue/green\", mode=\"overwrite\")"
   ]
  },
  {
   "cell_type": "code",
   "execution_count": 15,
   "id": "21c10150",
   "metadata": {},
   "outputs": [],
   "source": [
    "df_yellow = spark.read.parquet(\"data/pq/yellow/*/*/\")"
   ]
  },
  {
   "cell_type": "code",
   "execution_count": 16,
   "id": "f876444f",
   "metadata": {},
   "outputs": [],
   "source": [
    "df_yellow.registerTempTable(\"yellow\")"
   ]
  },
  {
   "cell_type": "code",
   "execution_count": 17,
   "id": "f1a33ced",
   "metadata": {},
   "outputs": [],
   "source": [
    "df_yellow_revenue = spark.sql(\"\"\"\n",
    "    SELECT\n",
    "        -- Revenue grouping\n",
    "        DATE_TRUNC('HOUR', tpep_pickup_datetime) AS hour,\n",
    "        PULocationID AS zone,\n",
    "        \n",
    "        -- Revenue calculation\n",
    "        SUM(total_amount) AS amount,\n",
    "        COUNT(1) as number_records\n",
    "        \n",
    "    FROM\n",
    "        yellow\n",
    "    WHERE\n",
    "        tpep_pickup_datetime >= '2020-01-01 00:00:00'\n",
    "    GROUP BY\n",
    "        1, 2\n",
    "\"\"\")"
   ]
  },
  {
   "cell_type": "code",
   "execution_count": 18,
   "id": "03095d62",
   "metadata": {},
   "outputs": [
    {
     "name": "stderr",
     "output_type": "stream",
     "text": [
      "[Stage 15:===================================================>    (12 + 1) / 13]\r"
     ]
    },
    {
     "name": "stdout",
     "output_type": "stream",
     "text": [
      "+-------------------+----+------------------+--------------+\n",
      "|               hour|zone|            amount|number_records|\n",
      "+-------------------+----+------------------+--------------+\n",
      "|2020-01-24 20:00:00| 162| 9186.120000000014|           544|\n",
      "|2020-01-21 08:00:00| 151| 2447.379999999999|           157|\n",
      "|2020-01-24 18:00:00| 170|10212.670000000024|           571|\n",
      "|2020-01-17 11:00:00| 170| 6049.720000000008|           381|\n",
      "|2020-01-26 22:00:00| 238|1104.9700000000003|            71|\n",
      "|2020-01-03 19:00:00| 229| 4173.519999999997|           268|\n",
      "|2020-01-14 18:00:00| 164| 7510.170000000009|           404|\n",
      "|2020-01-03 23:00:00| 230| 9403.150000000023|           526|\n",
      "|2020-01-10 11:00:00|  13| 2626.669999999999|           111|\n",
      "|2020-01-15 10:00:00| 239| 4393.809999999999|           304|\n",
      "|2020-01-31 09:00:00| 237| 8993.930000000022|           603|\n",
      "|2020-01-08 20:00:00| 107| 5676.150000000003|           355|\n",
      "|2020-01-26 16:00:00|  50|           1566.42|            94|\n",
      "|2020-01-27 08:00:00| 262|6055.5000000000055|           326|\n",
      "|2020-01-16 19:00:00| 132|25545.189999999988|           453|\n",
      "|2020-01-15 17:00:00| 141|           4703.52|           311|\n",
      "|2020-01-22 08:00:00| 230|3858.2699999999986|           206|\n",
      "|2020-01-03 18:00:00|  48| 4748.399999999998|           304|\n",
      "|2020-01-25 16:00:00| 263| 2554.699999999998|           197|\n",
      "|2020-01-15 08:00:00| 230| 7000.820000000003|           295|\n",
      "+-------------------+----+------------------+--------------+\n",
      "only showing top 20 rows\n",
      "\n"
     ]
    },
    {
     "name": "stderr",
     "output_type": "stream",
     "text": [
      "\r",
      "                                                                                \r"
     ]
    }
   ],
   "source": [
    "df_yellow_revenue.show()"
   ]
  },
  {
   "cell_type": "code",
   "execution_count": 19,
   "id": "acb30a26",
   "metadata": {},
   "outputs": [
    {
     "name": "stderr",
     "output_type": "stream",
     "text": [
      "22/03/10 14:03:20 WARN MemoryManager: Total allocation exceeds 95.00% (1,020,054,720 bytes) of heap memory\n",
      "Scaling row group sizes to 95.00% for 8 writers\n",
      "22/03/10 14:03:20 WARN MemoryManager: Total allocation exceeds 95.00% (1,020,054,720 bytes) of heap memory\n",
      "Scaling row group sizes to 84.44% for 9 writers\n",
      "22/03/10 14:03:20 WARN MemoryManager: Total allocation exceeds 95.00% (1,020,054,720 bytes) of heap memory\n",
      "Scaling row group sizes to 76.00% for 10 writers\n",
      "22/03/10 14:03:20 WARN MemoryManager: Total allocation exceeds 95.00% (1,020,054,720 bytes) of heap memory\n",
      "Scaling row group sizes to 69.09% for 11 writers\n",
      "22/03/10 14:03:20 WARN MemoryManager: Total allocation exceeds 95.00% (1,020,054,720 bytes) of heap memory\n",
      "Scaling row group sizes to 63.33% for 12 writers\n",
      "22/03/10 14:03:20 WARN MemoryManager: Total allocation exceeds 95.00% (1,020,054,720 bytes) of heap memory\n",
      "Scaling row group sizes to 69.09% for 11 writers\n",
      "22/03/10 14:03:20 WARN MemoryManager: Total allocation exceeds 95.00% (1,020,054,720 bytes) of heap memory\n",
      "Scaling row group sizes to 76.00% for 10 writers\n",
      "22/03/10 14:03:20 WARN MemoryManager: Total allocation exceeds 95.00% (1,020,054,720 bytes) of heap memory\n",
      "Scaling row group sizes to 84.44% for 9 writers\n",
      "22/03/10 14:03:20 WARN MemoryManager: Total allocation exceeds 95.00% (1,020,054,720 bytes) of heap memory\n",
      "Scaling row group sizes to 95.00% for 8 writers\n",
      "22/03/10 14:03:21 WARN MemoryManager: Total allocation exceeds 95.00% (1,020,054,720 bytes) of heap memory\n",
      "Scaling row group sizes to 95.00% for 8 writers\n",
      "                                                                                \r"
     ]
    }
   ],
   "source": [
    "df_yellow_revenue.write.parquet(\"data/report/revenue/yellow\", mode=\"overwrite\")"
   ]
  },
  {
   "cell_type": "code",
   "execution_count": 22,
   "id": "7d817829",
   "metadata": {},
   "outputs": [],
   "source": [
    "df_green_revenue_tmp = df_green_revenue \\\n",
    "    .withColumnRenamed(\"amount\", \"green_amount\") \\\n",
    "    .withColumnRenamed(\"number_records\", \"green_number_records\")\n",
    "\n",
    "df_yellow_revenue_tmp = df_yellow_revenue \\\n",
    "    .withColumnRenamed(\"amount\", \"yellow_amount\") \\\n",
    "    .withColumnRenamed(\"number_records\", \"yellow_number_records\")"
   ]
  },
  {
   "cell_type": "code",
   "execution_count": 23,
   "id": "0928a66e",
   "metadata": {},
   "outputs": [],
   "source": [
    "df_join = df_green_revenue_tmp.join(df_yellow_revenue_tmp, on=[\"hour\", \"zone\"], how=\"outer\")"
   ]
  },
  {
   "cell_type": "code",
   "execution_count": 24,
   "id": "84dc4e81",
   "metadata": {},
   "outputs": [
    {
     "name": "stderr",
     "output_type": "stream",
     "text": [
      "[Stage 22:===================================================>    (12 + 1) / 13]\r"
     ]
    },
    {
     "name": "stdout",
     "output_type": "stream",
     "text": [
      "+-------------------+----+------------------+--------------------+------------------+---------------------+\n",
      "|               hour|zone|      green_amount|green_number_records|     yellow_amount|yellow_number_records|\n",
      "+-------------------+----+------------------+--------------------+------------------+---------------------+\n",
      "|2020-01-01 00:00:00| 258|              45.3|                   1|              null|                 null|\n",
      "|2020-01-01 01:00:00|  70|              18.6|                   2|              21.3|                    1|\n",
      "|2020-01-01 02:00:00| 153|              null|                null|              42.8|                    1|\n",
      "|2020-01-01 02:00:00| 181| 695.3799999999998|                  25|1512.0899999999997|                   67|\n",
      "|2020-01-01 05:00:00| 224|              null|                null| 93.55000000000001|                    4|\n",
      "|2020-01-01 10:00:00|  68|              null|                null| 1690.699999999999|                   92|\n",
      "|2020-01-01 11:00:00| 100|              null|                null|1643.0699999999988|                  109|\n",
      "|2020-01-01 11:00:00| 155|              null|                null|             27.97|                    1|\n",
      "|2020-01-01 15:00:00| 234|              null|                null| 3418.319999999998|                  224|\n",
      "|2020-01-01 16:00:00| 219|              null|                null|             73.67|                    1|\n",
      "|2020-01-01 18:00:00|   7|301.44000000000017|                  23|              83.6|                    7|\n",
      "|2020-01-01 20:00:00| 194|              null|                null|             65.42|                    1|\n",
      "|2020-01-01 21:00:00|   7| 179.1200000000001|                  16|103.21000000000001|                   10|\n",
      "|2020-01-01 21:00:00| 169|              null|                null|             21.57|                    1|\n",
      "|2020-01-01 21:00:00| 246|              null|                null| 881.5900000000003|                   52|\n",
      "|2020-01-01 22:00:00|  42|257.02000000000004|                  12|            138.01|                    6|\n",
      "|2020-01-02 01:00:00| 161|              null|                null|            275.52|                   20|\n",
      "|2020-01-02 04:00:00|  69|              33.7|                   3|              null|                 null|\n",
      "|2020-01-02 04:00:00|  89|             81.11|                   2|             30.11|                    1|\n",
      "|2020-01-02 05:00:00|  74|             58.86|                   5|            224.47|                   15|\n",
      "+-------------------+----+------------------+--------------------+------------------+---------------------+\n",
      "only showing top 20 rows\n",
      "\n"
     ]
    },
    {
     "name": "stderr",
     "output_type": "stream",
     "text": [
      "\r",
      "                                                                                \r"
     ]
    }
   ],
   "source": [
    "df_join.show()"
   ]
  },
  {
   "cell_type": "code",
   "execution_count": 25,
   "id": "cc583eea",
   "metadata": {},
   "outputs": [
    {
     "name": "stderr",
     "output_type": "stream",
     "text": [
      "22/03/10 14:39:46 WARN MemoryManager: Total allocation exceeds 95.00% (1,020,054,720 bytes) of heap memory\n",
      "Scaling row group sizes to 95.00% for 8 writers\n",
      "22/03/10 14:39:46 WARN MemoryManager: Total allocation exceeds 95.00% (1,020,054,720 bytes) of heap memory\n",
      "Scaling row group sizes to 84.44% for 9 writers\n",
      "22/03/10 14:39:46 WARN MemoryManager: Total allocation exceeds 95.00% (1,020,054,720 bytes) of heap memory\n",
      "Scaling row group sizes to 76.00% for 10 writers\n",
      "22/03/10 14:39:46 WARN MemoryManager: Total allocation exceeds 95.00% (1,020,054,720 bytes) of heap memory\n",
      "Scaling row group sizes to 69.09% for 11 writers\n",
      "22/03/10 14:39:46 WARN MemoryManager: Total allocation exceeds 95.00% (1,020,054,720 bytes) of heap memory\n",
      "Scaling row group sizes to 63.33% for 12 writers\n",
      "22/03/10 14:39:47 WARN MemoryManager: Total allocation exceeds 95.00% (1,020,054,720 bytes) of heap memory\n",
      "Scaling row group sizes to 69.09% for 11 writers\n",
      "22/03/10 14:39:47 WARN MemoryManager: Total allocation exceeds 95.00% (1,020,054,720 bytes) of heap memory\n",
      "Scaling row group sizes to 76.00% for 10 writers\n",
      "22/03/10 14:39:47 WARN MemoryManager: Total allocation exceeds 95.00% (1,020,054,720 bytes) of heap memory\n",
      "Scaling row group sizes to 84.44% for 9 writers\n",
      "22/03/10 14:39:47 WARN MemoryManager: Total allocation exceeds 95.00% (1,020,054,720 bytes) of heap memory\n",
      "Scaling row group sizes to 95.00% for 8 writers\n",
      "22/03/10 14:39:47 WARN MemoryManager: Total allocation exceeds 95.00% (1,020,054,720 bytes) of heap memory\n",
      "Scaling row group sizes to 95.00% for 8 writers\n",
      "22/03/10 14:39:47 WARN MemoryManager: Total allocation exceeds 95.00% (1,020,054,720 bytes) of heap memory\n",
      "Scaling row group sizes to 84.44% for 9 writers\n",
      "22/03/10 14:39:47 WARN MemoryManager: Total allocation exceeds 95.00% (1,020,054,720 bytes) of heap memory\n",
      "Scaling row group sizes to 76.00% for 10 writers\n",
      "22/03/10 14:39:47 WARN MemoryManager: Total allocation exceeds 95.00% (1,020,054,720 bytes) of heap memory\n",
      "Scaling row group sizes to 84.44% for 9 writers\n",
      "22/03/10 14:39:47 WARN MemoryManager: Total allocation exceeds 95.00% (1,020,054,720 bytes) of heap memory\n",
      "Scaling row group sizes to 95.00% for 8 writers\n",
      "22/03/10 14:39:47 WARN MemoryManager: Total allocation exceeds 95.00% (1,020,054,720 bytes) of heap memory\n",
      "Scaling row group sizes to 84.44% for 9 writers\n",
      "22/03/10 14:39:47 WARN MemoryManager: Total allocation exceeds 95.00% (1,020,054,720 bytes) of heap memory\n",
      "Scaling row group sizes to 95.00% for 8 writers\n",
      "                                                                                \r"
     ]
    }
   ],
   "source": [
    "df_join.write.parquet(\"data/report/revenue/total\")"
   ]
  },
  {
   "cell_type": "code",
   "execution_count": null,
   "id": "3d9dce73",
   "metadata": {},
   "outputs": [],
   "source": []
  }
 ],
 "metadata": {
  "kernelspec": {
   "display_name": "Python 3 (ipykernel)",
   "language": "python",
   "name": "python3"
  },
  "language_info": {
   "codemirror_mode": {
    "name": "ipython",
    "version": 3
   },
   "file_extension": ".py",
   "mimetype": "text/x-python",
   "name": "python",
   "nbconvert_exporter": "python",
   "pygments_lexer": "ipython3",
   "version": "3.8.10"
  }
 },
 "nbformat": 4,
 "nbformat_minor": 5
}
