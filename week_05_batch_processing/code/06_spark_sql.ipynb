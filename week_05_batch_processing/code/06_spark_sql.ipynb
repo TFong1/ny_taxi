{
 "cells": [
  {
   "cell_type": "code",
   "execution_count": 1,
   "id": "7610a350",
   "metadata": {},
   "outputs": [
    {
     "name": "stderr",
     "output_type": "stream",
     "text": [
      "22/03/09 20:03:48 WARN Utils: Your hostname, FONG-DEV-NUC resolves to a loopback address: 127.0.1.1; using 192.168.129.125 instead (on interface eth0)\n",
      "22/03/09 20:03:48 WARN Utils: Set SPARK_LOCAL_IP if you need to bind to another address\n",
      "WARNING: An illegal reflective access operation has occurred\n",
      "WARNING: Illegal reflective access by org.apache.spark.unsafe.Platform (file:/home/fongt/spark/spark-3.0.3-bin-hadoop3.2/jars/spark-unsafe_2.12-3.0.3.jar) to constructor java.nio.DirectByteBuffer(long,int)\n",
      "WARNING: Please consider reporting this to the maintainers of org.apache.spark.unsafe.Platform\n",
      "WARNING: Use --illegal-access=warn to enable warnings of further illegal reflective access operations\n",
      "WARNING: All illegal access operations will be denied in a future release\n",
      "22/03/09 20:03:59 WARN NativeCodeLoader: Unable to load native-hadoop library for your platform... using builtin-java classes where applicable\n",
      "Using Spark's default log4j profile: org/apache/spark/log4j-defaults.properties\n",
      "Setting default log level to \"WARN\".\n",
      "To adjust logging level use sc.setLogLevel(newLevel). For SparkR, use setLogLevel(newLevel).\n"
     ]
    }
   ],
   "source": [
    "import pyspark\n",
    "from pyspark.sql import SparkSession\n",
    "\n",
    "spark = SparkSession.builder \\\n",
    "            .master(\"local[*]\") \\\n",
    "            .appName(\"test\") \\\n",
    "            .getOrCreate()"
   ]
  },
  {
   "cell_type": "code",
   "execution_count": 2,
   "id": "b64ea446",
   "metadata": {},
   "outputs": [
    {
     "name": "stderr",
     "output_type": "stream",
     "text": [
      "\r",
      "[Stage 0:>                                                          (0 + 1) / 1]\r",
      "\r",
      "                                                                                \r"
     ]
    }
   ],
   "source": [
    "df_green = spark.read.parquet(\"data/pq/green/*/*\")"
   ]
  },
  {
   "cell_type": "code",
   "execution_count": 4,
   "id": "299008b7",
   "metadata": {},
   "outputs": [
    {
     "name": "stdout",
     "output_type": "stream",
     "text": [
      "root\n",
      " |-- VendorID: integer (nullable = true)\n",
      " |-- lpep_pickup_datetime: timestamp (nullable = true)\n",
      " |-- lpep_dropoff_datetime: timestamp (nullable = true)\n",
      " |-- store_and_fwd_flag: string (nullable = true)\n",
      " |-- RatecodeID: integer (nullable = true)\n",
      " |-- PULocationID: integer (nullable = true)\n",
      " |-- DOLocationID: integer (nullable = true)\n",
      " |-- passenger_count: integer (nullable = true)\n",
      " |-- trip_distance: double (nullable = true)\n",
      " |-- fare_amount: double (nullable = true)\n",
      " |-- extra: double (nullable = true)\n",
      " |-- mta_tax: double (nullable = true)\n",
      " |-- tip_amount: double (nullable = true)\n",
      " |-- tolls_amount: double (nullable = true)\n",
      " |-- ehail_fee: double (nullable = true)\n",
      " |-- improvement_surcharge: double (nullable = true)\n",
      " |-- total_amount: double (nullable = true)\n",
      " |-- payment_type: integer (nullable = true)\n",
      " |-- trip_type: integer (nullable = true)\n",
      " |-- congestion_surcharge: double (nullable = true)\n",
      "\n"
     ]
    }
   ],
   "source": [
    "df_green.printSchema()"
   ]
  },
  {
   "cell_type": "code",
   "execution_count": 5,
   "id": "a3187748",
   "metadata": {},
   "outputs": [],
   "source": [
    "df_yellow = spark.read.parquet(\"data/pq/yellow/*/*\")"
   ]
  },
  {
   "cell_type": "code",
   "execution_count": 6,
   "id": "b22524b4",
   "metadata": {},
   "outputs": [
    {
     "name": "stderr",
     "output_type": "stream",
     "text": [
      "\r",
      "[Stage 3:>                                                          (0 + 1) / 1]\r"
     ]
    },
    {
     "name": "stdout",
     "output_type": "stream",
     "text": [
      "+--------+--------------------+---------------------+---------------+-------------+----------+------------------+------------+------------+------------+-----------+-----+-------+----------+------------+---------------------+------------+--------------------+\n",
      "|VendorID|tpep_pickup_datetime|tpep_dropoff_datetime|passenger_count|trip_distance|RatecodeID|store_and_fwd_flag|PULocationID|DOLocationID|payment_type|fare_amount|extra|mta_tax|tip_amount|tolls_amount|improvement_surcharge|total_amount|congestion_surcharge|\n",
      "+--------+--------------------+---------------------+---------------+-------------+----------+------------------+------------+------------+------------+-----------+-----+-------+----------+------------+---------------------+------------+--------------------+\n",
      "|       2| 2020-01-25 17:29:48|  2020-01-25 17:36:07|              1|         1.07|         1|                 N|         211|          79|           1|        6.0|  0.0|    0.5|      1.86|         0.0|                  0.3|       11.16|                 2.5|\n",
      "|       1| 2020-01-07 23:33:47|  2020-01-07 23:38:42|              1|          1.6|         1|                 N|         143|         246|           1|        6.5|  3.0|    0.5|       0.0|         0.0|                  0.3|        10.3|                 2.5|\n",
      "|       1| 2020-01-18 21:52:49|  2020-01-18 22:11:59|              1|          3.4|         1|                 N|         249|         246|           1|       14.5|  3.0|    0.5|      3.65|         0.0|                  0.3|       21.95|                 2.5|\n",
      "|       2| 2020-01-16 11:39:46|  2020-01-16 11:53:18|              1|         1.63|         1|                 N|         163|         140|           1|       10.0|  0.0|    0.5|      2.66|         0.0|                  0.3|       15.96|                 2.5|\n",
      "|       1| 2020-01-10 10:49:33|  2020-01-10 11:01:21|              1|          1.0|         1|                 N|         186|         170|           1|        8.5|  2.5|    0.5|      2.35|         0.0|                  0.3|       14.15|                 2.5|\n",
      "|       2| 2020-01-12 21:52:34|  2020-01-12 21:54:18|              1|         0.58|         1|                 N|          79|          79|           1|        3.5|  0.5|    0.5|       1.7|         0.0|                  0.3|         9.0|                 2.5|\n",
      "|       2| 2020-01-31 08:37:57|  2020-01-31 08:49:00|              1|         1.64|         1|                 N|         162|         137|           1|        9.0|  0.0|    0.5|      2.46|         0.0|                  0.3|       14.76|                 2.5|\n",
      "|       2| 2020-01-31 16:41:18|  2020-01-31 16:50:46|              2|         1.17|         1|                 N|          48|         143|           1|        7.5|  1.0|    0.5|      1.18|         0.0|                  0.3|       14.93|                 2.5|\n",
      "|       2| 2020-01-07 05:31:11|  2020-01-07 05:33:16|              1|         0.81|         1|                 N|         237|         229|           1|        4.5|  0.5|    0.5|      1.66|         0.0|                  0.3|        9.96|                 2.5|\n",
      "|       1| 2020-01-12 16:02:17|  2020-01-12 16:07:37|              1|          0.9|         1|                 N|         144|         113|           1|        6.0|  2.5|    0.5|       1.4|         0.0|                  0.3|        10.7|                 2.5|\n",
      "|       2| 2020-01-13 22:06:30|  2020-01-13 22:20:51|              1|         6.29|         1|                 N|         138|         145|           1|       19.5|  0.5|    0.5|      4.16|         0.0|                  0.3|       24.96|                 0.0|\n",
      "|       1| 2020-01-20 17:50:06|  2020-01-20 18:06:52|              1|          2.5|         1|                 N|         148|         170|           1|       13.0|  2.5|    0.5|      3.25|         0.0|                  0.3|       19.55|                 2.5|\n",
      "|       2| 2020-01-24 17:35:37|  2020-01-24 17:40:55|              1|         0.51|         1|                 N|         249|         249|           2|        4.0|  1.0|    0.5|       0.0|         0.0|                  0.3|         8.3|                 2.5|\n",
      "|       2| 2020-01-11 20:12:06|  2020-01-11 20:21:56|              1|          2.7|         1|                 N|         236|         142|           1|       10.5|  0.5|    0.5|      1.75|         0.0|                  0.3|       16.05|                 2.5|\n",
      "|       2| 2020-01-28 12:52:56|  2020-01-28 13:00:13|              1|         0.99|         1|                 N|         162|         163|           1|        6.5|  0.0|    0.5|      1.96|         0.0|                  0.3|       11.76|                 2.5|\n",
      "|       2| 2020-01-16 14:09:54|  2020-01-16 14:23:32|              1|          2.2|         1|                 N|         229|         236|           1|       11.0|  0.0|    0.5|       1.0|         0.0|                  0.3|        15.3|                 2.5|\n",
      "|       2| 2020-01-22 12:09:33|  2020-01-22 12:18:53|              1|         1.38|         1|                 N|         262|         236|           2|        7.5|  0.0|    0.5|       0.0|         0.0|                  0.3|        10.8|                 2.5|\n",
      "|       1| 2020-01-27 09:41:03|  2020-01-27 10:08:10|              1|          3.1|         1|                 N|         142|         107|           1|       17.5|  2.5|    0.5|       2.2|         0.0|                  0.3|        23.0|                 2.5|\n",
      "|       2| 2020-01-24 10:25:57|  2020-01-24 10:53:25|              1|        16.94|         3|                 N|          68|           1|           1|       62.5|  0.0|    0.0|     16.51|       19.75|                  0.3|       99.06|                 0.0|\n",
      "|       2| 2020-01-06 17:50:06|  2020-01-06 18:08:15|              5|         3.07|         1|                 N|         249|          87|           1|       14.0|  1.0|    0.5|      3.66|         0.0|                  0.3|       21.96|                 2.5|\n",
      "+--------+--------------------+---------------------+---------------+-------------+----------+------------------+------------+------------+------------+-----------+-----+-------+----------+------------+---------------------+------------+--------------------+\n",
      "only showing top 20 rows\n",
      "\n"
     ]
    },
    {
     "name": "stderr",
     "output_type": "stream",
     "text": [
      "\r",
      "                                                                                \r"
     ]
    }
   ],
   "source": [
    "df_yellow.show()"
   ]
  },
  {
   "cell_type": "code",
   "execution_count": 7,
   "id": "61789875",
   "metadata": {},
   "outputs": [
    {
     "name": "stdout",
     "output_type": "stream",
     "text": [
      "root\n",
      " |-- VendorID: integer (nullable = true)\n",
      " |-- tpep_pickup_datetime: timestamp (nullable = true)\n",
      " |-- tpep_dropoff_datetime: timestamp (nullable = true)\n",
      " |-- passenger_count: integer (nullable = true)\n",
      " |-- trip_distance: double (nullable = true)\n",
      " |-- RatecodeID: integer (nullable = true)\n",
      " |-- store_and_fwd_flag: string (nullable = true)\n",
      " |-- PULocationID: integer (nullable = true)\n",
      " |-- DOLocationID: integer (nullable = true)\n",
      " |-- payment_type: integer (nullable = true)\n",
      " |-- fare_amount: double (nullable = true)\n",
      " |-- extra: double (nullable = true)\n",
      " |-- mta_tax: double (nullable = true)\n",
      " |-- tip_amount: double (nullable = true)\n",
      " |-- tolls_amount: double (nullable = true)\n",
      " |-- improvement_surcharge: double (nullable = true)\n",
      " |-- total_amount: double (nullable = true)\n",
      " |-- congestion_surcharge: double (nullable = true)\n",
      "\n"
     ]
    }
   ],
   "source": [
    "df_yellow.printSchema()"
   ]
  },
  {
   "cell_type": "code",
   "execution_count": 8,
   "id": "7b50da12",
   "metadata": {},
   "outputs": [
    {
     "data": {
      "text/plain": [
       "['VendorID',\n",
       " 'lpep_pickup_datetime',\n",
       " 'lpep_dropoff_datetime',\n",
       " 'store_and_fwd_flag',\n",
       " 'RatecodeID',\n",
       " 'PULocationID',\n",
       " 'DOLocationID',\n",
       " 'passenger_count',\n",
       " 'trip_distance',\n",
       " 'fare_amount',\n",
       " 'extra',\n",
       " 'mta_tax',\n",
       " 'tip_amount',\n",
       " 'tolls_amount',\n",
       " 'ehail_fee',\n",
       " 'improvement_surcharge',\n",
       " 'total_amount',\n",
       " 'payment_type',\n",
       " 'trip_type',\n",
       " 'congestion_surcharge']"
      ]
     },
     "execution_count": 8,
     "metadata": {},
     "output_type": "execute_result"
    }
   ],
   "source": [
    "df_green.columns"
   ]
  },
  {
   "cell_type": "code",
   "execution_count": 9,
   "id": "67a9f29b",
   "metadata": {},
   "outputs": [
    {
     "data": {
      "text/plain": [
       "['VendorID',\n",
       " 'tpep_pickup_datetime',\n",
       " 'tpep_dropoff_datetime',\n",
       " 'passenger_count',\n",
       " 'trip_distance',\n",
       " 'RatecodeID',\n",
       " 'store_and_fwd_flag',\n",
       " 'PULocationID',\n",
       " 'DOLocationID',\n",
       " 'payment_type',\n",
       " 'fare_amount',\n",
       " 'extra',\n",
       " 'mta_tax',\n",
       " 'tip_amount',\n",
       " 'tolls_amount',\n",
       " 'improvement_surcharge',\n",
       " 'total_amount',\n",
       " 'congestion_surcharge']"
      ]
     },
     "execution_count": 9,
     "metadata": {},
     "output_type": "execute_result"
    }
   ],
   "source": [
    "df_yellow.columns"
   ]
  },
  {
   "cell_type": "code",
   "execution_count": 10,
   "id": "7de6a446",
   "metadata": {},
   "outputs": [
    {
     "data": {
      "text/plain": [
       "{'DOLocationID',\n",
       " 'PULocationID',\n",
       " 'RatecodeID',\n",
       " 'VendorID',\n",
       " 'congestion_surcharge',\n",
       " 'extra',\n",
       " 'fare_amount',\n",
       " 'improvement_surcharge',\n",
       " 'mta_tax',\n",
       " 'passenger_count',\n",
       " 'payment_type',\n",
       " 'store_and_fwd_flag',\n",
       " 'tip_amount',\n",
       " 'tolls_amount',\n",
       " 'total_amount',\n",
       " 'trip_distance'}"
      ]
     },
     "execution_count": 10,
     "metadata": {},
     "output_type": "execute_result"
    }
   ],
   "source": [
    "set(df_green.columns) & set(df_yellow.columns)"
   ]
  },
  {
   "cell_type": "code",
   "execution_count": 12,
   "id": "aad68a8c",
   "metadata": {},
   "outputs": [],
   "source": [
    "df_green = df_green \\\n",
    "    .withColumnRenamed(\"lpep_pickup_datetime\", \"pickup_datetime\") \\\n",
    "    .withColumnRenamed(\"lpep_dropoff_datetime\", \"dropoff_datetime\")"
   ]
  },
  {
   "cell_type": "code",
   "execution_count": 13,
   "id": "fa19f543",
   "metadata": {},
   "outputs": [],
   "source": [
    "df_yellow = df_yellow \\\n",
    "    .withColumnRenamed(\"tpep_pickup_datetime\", \"pickup_datetime\") \\\n",
    "    .withColumnRenamed(\"tpep_dropoff_datetime\", \"dropoff_datetime\")"
   ]
  },
  {
   "cell_type": "code",
   "execution_count": 14,
   "id": "c0943ad5",
   "metadata": {},
   "outputs": [
    {
     "data": {
      "text/plain": [
       "{'DOLocationID',\n",
       " 'PULocationID',\n",
       " 'RatecodeID',\n",
       " 'VendorID',\n",
       " 'congestion_surcharge',\n",
       " 'dropoff_datetime',\n",
       " 'extra',\n",
       " 'fare_amount',\n",
       " 'improvement_surcharge',\n",
       " 'mta_tax',\n",
       " 'passenger_count',\n",
       " 'payment_type',\n",
       " 'pickup_datetime',\n",
       " 'store_and_fwd_flag',\n",
       " 'tip_amount',\n",
       " 'tolls_amount',\n",
       " 'total_amount',\n",
       " 'trip_distance'}"
      ]
     },
     "execution_count": 14,
     "metadata": {},
     "output_type": "execute_result"
    }
   ],
   "source": [
    "set(df_green.columns) & set(df_yellow.columns)"
   ]
  },
  {
   "cell_type": "code",
   "execution_count": 15,
   "id": "fe08ba99",
   "metadata": {},
   "outputs": [],
   "source": [
    "common_columns = []\n",
    "\n",
    "yellow_columns = set(df_yellow.columns)\n",
    "\n",
    "for col in df_green.columns:\n",
    "    if col in yellow_columns:\n",
    "        common_columns.append(col)"
   ]
  },
  {
   "cell_type": "code",
   "execution_count": 16,
   "id": "522f54fa",
   "metadata": {},
   "outputs": [
    {
     "data": {
      "text/plain": [
       "['VendorID',\n",
       " 'pickup_datetime',\n",
       " 'dropoff_datetime',\n",
       " 'store_and_fwd_flag',\n",
       " 'RatecodeID',\n",
       " 'PULocationID',\n",
       " 'DOLocationID',\n",
       " 'passenger_count',\n",
       " 'trip_distance',\n",
       " 'fare_amount',\n",
       " 'extra',\n",
       " 'mta_tax',\n",
       " 'tip_amount',\n",
       " 'tolls_amount',\n",
       " 'improvement_surcharge',\n",
       " 'total_amount',\n",
       " 'payment_type',\n",
       " 'congestion_surcharge']"
      ]
     },
     "execution_count": 16,
     "metadata": {},
     "output_type": "execute_result"
    }
   ],
   "source": [
    "common_columns"
   ]
  },
  {
   "cell_type": "code",
   "execution_count": 20,
   "id": "33a17de3",
   "metadata": {},
   "outputs": [],
   "source": [
    "from pyspark.sql import functions as F"
   ]
  },
  {
   "cell_type": "code",
   "execution_count": 22,
   "id": "204fb607",
   "metadata": {},
   "outputs": [],
   "source": [
    "df_green_sel = df_green \\\n",
    "    .select(common_columns) \\\n",
    "    .withColumn(\"service_type\", F.lit(\"green\"))"
   ]
  },
  {
   "cell_type": "code",
   "execution_count": 23,
   "id": "38b2dac2",
   "metadata": {},
   "outputs": [],
   "source": [
    "df_yellow_sel = df_yellow \\\n",
    "    .select(common_columns) \\\n",
    "    .withColumn(\"service_type\", F.lit(\"yellow\"))"
   ]
  },
  {
   "cell_type": "code",
   "execution_count": 24,
   "id": "32123c46",
   "metadata": {},
   "outputs": [],
   "source": [
    "df_trips_data = df_green_sel.unionAll(df_yellow_sel)"
   ]
  },
  {
   "cell_type": "code",
   "execution_count": 26,
   "id": "f05eeea1",
   "metadata": {},
   "outputs": [
    {
     "name": "stderr",
     "output_type": "stream",
     "text": [
      "                                                                                \r"
     ]
    },
    {
     "name": "stdout",
     "output_type": "stream",
     "text": [
      "+------------+--------+\n",
      "|service_type|   count|\n",
      "+------------+--------+\n",
      "|       green| 2304517|\n",
      "|      yellow|39649199|\n",
      "+------------+--------+\n",
      "\n"
     ]
    }
   ],
   "source": [
    "df_trips_data.groupBy(\"service_type\").count().show()"
   ]
  },
  {
   "cell_type": "code",
   "execution_count": 27,
   "id": "df3767c8",
   "metadata": {},
   "outputs": [],
   "source": [
    "df_trips_data.registerTempTable(\"df_trips_data\")"
   ]
  },
  {
   "cell_type": "code",
   "execution_count": 32,
   "id": "2279f3ba",
   "metadata": {},
   "outputs": [
    {
     "name": "stderr",
     "output_type": "stream",
     "text": [
      "                                                                                \r"
     ]
    },
    {
     "name": "stdout",
     "output_type": "stream",
     "text": [
      "+------------+--------+\n",
      "|service_type|   count|\n",
      "+------------+--------+\n",
      "|       green| 2304517|\n",
      "|      yellow|39649199|\n",
      "+------------+--------+\n",
      "\n"
     ]
    }
   ],
   "source": [
    "spark.sql(\"\"\"\n",
    "    SELECT\n",
    "        service_type,\n",
    "        count(1) AS count\n",
    "    FROM df_trips_data\n",
    "    GROUP BY service_type;\n",
    "\"\"\").show()"
   ]
  },
  {
   "cell_type": "code",
   "execution_count": 44,
   "id": "2250e1c7",
   "metadata": {},
   "outputs": [],
   "source": [
    "df_result = spark.sql(\"\"\"\n",
    "    SELECT\n",
    "        -- Revenue grouping\n",
    "        PULocationID AS revenue_zone,\n",
    "        date_trunc('month',pickup_datetime) AS revenue_month,\n",
    "        service_type,\n",
    "\n",
    "        -- Revenue calculation\n",
    "        SUM(fare_amount) AS revenue_monthly_fare,\n",
    "        SUM(extra) AS revenue_monthly_extra,\n",
    "        SUM(mta_tax) AS revenue_monthly_mta_tax,\n",
    "        SUM(tip_amount) AS revenue_monthly_tip_amount,\n",
    "        SUM(tolls_amount) AS revenue_monthly_tolls_amount,\n",
    "        SUM(improvement_surcharge) AS revenue_monthly_improvement_surcharge,\n",
    "        SUM(total_amount) AS revenue_monthly_total_amount,\n",
    "        SUM(congestion_surcharge) AS revenue_monthly_congestion_surcharge,\n",
    "\n",
    "        -- Additional calculations\n",
    "        AVG(passenger_count) AS avg_monthly_passenger_count,\n",
    "        AVG(trip_distance) AS avg_monthly_trip_distance\n",
    "    FROM\n",
    "        df_trips_data\n",
    "    GROUP BY\n",
    "        revenue_zone, revenue_month, service_type\n",
    "\"\"\")"
   ]
  },
  {
   "cell_type": "code",
   "execution_count": 45,
   "id": "16846f48",
   "metadata": {},
   "outputs": [
    {
     "name": "stderr",
     "output_type": "stream",
     "text": [
      "[Stage 37:=====================================================>  (24 + 1) / 25]\r"
     ]
    },
    {
     "name": "stdout",
     "output_type": "stream",
     "text": [
      "+------------+-------------------+------------+--------------------+---------------------+-----------------------+--------------------------+----------------------------+-------------------------------------+----------------------------+------------------------------------+---------------------------+-------------------------+\n",
      "|revenue_zone|      revenue_month|service_type|revenue_monthly_fare|revenue_monthly_extra|revenue_monthly_mta_tax|revenue_monthly_tip_amount|revenue_monthly_tolls_amount|revenue_monthly_improvement_surcharge|revenue_monthly_total_amount|revenue_monthly_congestion_surcharge|avg_monthly_passenger_count|avg_monthly_trip_distance|\n",
      "+------------+-------------------+------------+--------------------+---------------------+-----------------------+--------------------------+----------------------------+-------------------------------------+----------------------------+------------------------------------+---------------------------+-------------------------+\n",
      "|         196|2020-01-01 00:00:00|       green|   55130.42999999982|               2233.0|                 1325.0|        1941.0699999999997|           811.5400000000003|                    1011.599999999938|           62713.79000000242|                               258.5|         1.4023121387283237|        3.538930419781482|\n",
      "|         184|2020-01-01 00:00:00|       green|              606.67|                31.25|                    7.0|                      9.76|          27.759999999999998|                   7.1999999999999975|           689.6399999999999|                                 0.0|                        1.8|                  6.70625|\n",
      "|         231|2020-02-01 00:00:00|       green|   7730.470000000004|                589.5|                   13.5|                       0.0|           237.6500000000001|                    63.89999999999975|           8635.019999999995|                                 0.0|                        1.0|        9.673380281690134|\n",
      "|         263|2020-02-01 00:00:00|       green|  6202.0899999999965|                446.0|                   99.5|        307.01000000000005|          219.75000000000009|                    96.89999999999944|           7640.500000000012|                              280.25|         1.4705882352941178|        4.208990825688074|\n",
      "|         100|2020-02-01 00:00:00|       green|  1632.9200000000003|               129.25|                    2.0|                       0.0|          112.44000000000001|                   13.800000000000011|          1890.4099999999999|                                null|                       null|        10.92695652173913|\n",
      "|         189|2020-10-01 00:00:00|       green|   4452.259999999998|                22.75|                   30.5|                    572.92|                        63.0|                   62.999999999999915|           5234.680000000004|                                22.0|         1.1515151515151516|        3.789671361502349|\n",
      "|         209|2020-10-01 00:00:00|       green|              472.24|                  0.0|                    0.0|                      38.5|          14.530000000000001|                    4.199999999999999|                      529.47|                                null|                       null|        7.251428571428571|\n",
      "|         126|2021-06-01 00:00:00|       green|  3310.5199999999986|                207.1|                   24.5|                     14.25|          176.89000000000004|                   38.999999999999986|           3775.010000000003|                                 0.0|                      1.375|       428.22423076923064|\n",
      "|         158|2021-06-01 00:00:00|       green|               17.01|                 2.75|                    0.0|                       0.0|                        6.55|                                  0.3|                       26.61|                                null|                       null|                     5.92|\n",
      "|         107|2021-05-01 00:00:00|       green|             1461.35|                119.6|                    0.0|                       0.0|                        90.6|                   13.199999999999996|                     1684.75|                                null|                       null|        8.183409090909093|\n",
      "|         149|2021-07-01 00:00:00|       green|   2392.370000000001|                213.1|                    3.0|                      3.14|                        70.4|                   24.600000000000023|                     2706.61|                                 0.0|         1.1666666666666667|        6.998658536585367|\n",
      "|         202|2021-07-01 00:00:00|       green|              975.22|                 62.5|                    5.0|                      5.07|                       32.75|                    9.299999999999997|                     1100.84|                                11.0|                        1.0|        6.483225806451613|\n",
      "|         265|2021-04-01 00:00:00|       green|             6262.61|                136.5|                   40.0|         60.32000000000001|           328.1700000000001|                    40.50000000000006|           6868.100000000008|                                 0.0|         1.2555555555555555|        13.66414814814815|\n",
      "|         143|2021-04-01 00:00:00|       green|   684.1800000000001|                 59.1|                    0.0|                       0.0|                        26.2|                    6.299999999999999|                      775.78|                                null|                       null|        8.008095238095237|\n",
      "|         168|2020-12-01 00:00:00|       green|  10477.439999999999|                 24.5|                   51.0|         966.8199999999999|          412.33000000000015|                   128.39999999999952|          12085.240000000013|                               13.75|         1.1666666666666667|        5.168979591836732|\n",
      "|         111|2020-12-01 00:00:00|       green|   57.67999999999999|                  0.0|                    0.0|                      2.75|                         0.0|                                  0.6|                       61.03|                                null|                       null|        7.199999999999999|\n",
      "|          37|2020-08-01 00:00:00|       green|   8985.549999999996|                11.75|                   22.0|         687.1700000000001|          240.12000000000006|                    94.49999999999982|                    10049.34|                                 5.5|         1.0377358490566038|        6.041936507936505|\n",
      "|         143|2021-01-01 00:00:00|       green|   620.3399999999999|                 27.5|                    0.0|                      27.5|                       36.72|                    5.999999999999998|                      718.06|                                null|                       null|                   8.0835|\n",
      "|         242|2020-07-01 00:00:00|       green|  14354.950000000044|                  9.0|                   51.0|                   1389.47|          457.19000000000017|                   180.59999999999974|          16448.909999999993|                                 0.0|         0.9901960784313726|       232.92855721393047|\n",
      "|          82|2020-06-01 00:00:00|       green|  13111.980000000003|                171.0|                  236.0|         862.7400000000005|           576.8500000000004|                   231.00000000000304|          15313.219999999916|                               90.75|         1.2188755020080322|        4.685244215938302|\n",
      "+------------+-------------------+------------+--------------------+---------------------+-----------------------+--------------------------+----------------------------+-------------------------------------+----------------------------+------------------------------------+---------------------------+-------------------------+\n",
      "only showing top 20 rows\n",
      "\n"
     ]
    },
    {
     "name": "stderr",
     "output_type": "stream",
     "text": [
      "\r",
      "                                                                                \r"
     ]
    }
   ],
   "source": [
    "df_result.show()"
   ]
  },
  {
   "cell_type": "code",
   "execution_count": 47,
   "id": "7c83ab68",
   "metadata": {},
   "outputs": [
    {
     "name": "stderr",
     "output_type": "stream",
     "text": [
      "                                                                                \r"
     ]
    }
   ],
   "source": [
    "df_result.coalesce(1).write.parquet(\"data/report/revenue/\", mode=\"overwrite\")"
   ]
  },
  {
   "cell_type": "code",
   "execution_count": null,
   "id": "8c6db75f",
   "metadata": {},
   "outputs": [],
   "source": [
    "!ls"
   ]
  }
 ],
 "metadata": {
  "kernelspec": {
   "display_name": "Python 3 (ipykernel)",
   "language": "python",
   "name": "python3"
  },
  "language_info": {
   "codemirror_mode": {
    "name": "ipython",
    "version": 3
   },
   "file_extension": ".py",
   "mimetype": "text/x-python",
   "name": "python",
   "nbconvert_exporter": "python",
   "pygments_lexer": "ipython3",
   "version": "3.8.10"
  }
 },
 "nbformat": 4,
 "nbformat_minor": 5
}
